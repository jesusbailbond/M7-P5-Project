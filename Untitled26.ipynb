{
 "cells": [
  {
   "cell_type": "code",
   "execution_count": 1,
   "id": "cd043e5f",
   "metadata": {},
   "outputs": [
    {
     "name": "stderr",
     "output_type": "stream",
     "text": [
      "[nltk_data] Downloading package stopwords to\n",
      "[nltk_data]     C:\\Users\\Jordan\\AppData\\Roaming\\nltk_data...\n",
      "[nltk_data]   Package stopwords is already up-to-date!\n"
     ]
    }
   ],
   "source": [
    "import pandas as pd\n",
    "import praw\n",
    "import datetime as dt\n",
    "import numpy as np\n",
    "import string\n",
    "import nltk\n",
    "import matplotlib.pyplot as plt\n",
    "import seaborn as sns\n",
    "from sklearn.feature_extraction.text import TfidfVectorizer\n",
    "from sklearn.model_selection import train_test_split, RandomizedSearchCV, cross_val_score\n",
    "from sklearn.ensemble import RandomForestClassifier\n",
    "from sklearn.metrics import classification_report, confusion_matrix\n",
    "from sklearn.cluster import KMeans\n",
    "from nltk.corpus import stopwords\n",
    "\n",
    "# Download the NLTK stopwords\n",
    "nltk.download('stopwords')\n",
    "stop_words = set(stopwords.words('english'))\n",
    "\n",
    "# Function to preprocess the text\n",
    "def preprocess_text(text):\n",
    "    \"\"\"\n",
    "    This function processes the input text by:\n",
    "    - Converting it to lowercase\n",
    "    - Removing punctuation\n",
    "    - Removing stopwords\n",
    "    \"\"\"\n",
    "    text = text.lower()  # Convert to lowercase\n",
    "    text = ''.join([char for char in text if char not in string.punctuation])  # Remove punctuation\n",
    "    text = ' '.join([word for word in text.split() if word not in stop_words])  # Remove stopwords\n",
    "    return text"
   ]
  },
  {
   "cell_type": "code",
   "execution_count": 12,
   "id": "44067793",
   "metadata": {},
   "outputs": [],
   "source": [
    "# Function to convert UNIX timestamp to datetime\n",
    "def get_date(created):\n",
    "    return dt.datetime.fromtimestamp(created)\n",
    "\n",
    "# Initialize Reddit API client using PRAW\n",
    "reddit = praw.Reddit(client_id='CLIENT-ID-FROM-REDDIT-API',\n",
    "                     client_secret='SECRET-KEY-FROM-APPS-API',\n",
    "                     user_agent='REDDIT-USERNAME', \n",
    "                     username='REDDIT-USERNAME',\n",
    "                     password='REDDIT-PASSWORD') #took off my password ^^''\n",
    "\n",
    "# Select the 'throneandliberty' subreddit\n",
    "subreddit = reddit.subreddit('throneandliberty')\n",
    "\n",
    "# Collect the top 1000 submissions\n",
    "top_subreddit = subreddit.top(limit=500)\n",
    "\n",
    "# Prepare a dictionary to store data about submissions\n",
    "topics_dict = { \"title\":[], \"score\":[], \"id\":[], \"url\":[], \"comms_num\": [], \"created\": [], \"body\":[] }\n",
    "\n",
    "# Loop through the top submissions and extract relevant data\n",
    "for submission in top_subreddit:\n",
    "    topics_dict[\"title\"].append(submission.title)\n",
    "    topics_dict[\"score\"].append(submission.score)\n",
    "    topics_dict[\"id\"].append(submission.id)\n",
    "    topics_dict[\"url\"].append(submission.url)\n",
    "    topics_dict[\"comms_num\"].append(submission.num_comments)\n",
    "    topics_dict[\"created\"].append(submission.created)\n",
    "    topics_dict[\"body\"].append(submission.selftext)\n",
    "\n",
    "# Convert to DataFrame for easier handling\n",
    "topics_data = pd.DataFrame(topics_dict)\n",
    "\n",
    "# Convert the 'created' column to datetime\n",
    "topics_data['timestamp'] = topics_data[\"created\"].apply(get_date)\n",
    "\n",
    "# Apply text preprocessing to the 'body' column\n",
    "topics_data['clean_body'] = topics_data['body'].apply(preprocess_text)\n"
   ]
  },
  {
   "cell_type": "code",
   "execution_count": 13,
   "id": "dd521327",
   "metadata": {},
   "outputs": [
    {
     "name": "stdout",
     "output_type": "stream",
     "text": [
      "              precision    recall  f1-score   support\n",
      "\n",
      "           0       0.00      0.00      0.00        38\n",
      "           1       0.75      1.00      0.85       112\n",
      "\n",
      "    accuracy                           0.75       150\n",
      "   macro avg       0.37      0.50      0.43       150\n",
      "weighted avg       0.56      0.75      0.64       150\n",
      "\n"
     ]
    },
    {
     "name": "stderr",
     "output_type": "stream",
     "text": [
      "C:\\Users\\Jordan\\anaconda3\\Lib\\site-packages\\sklearn\\metrics\\_classification.py:1344: UndefinedMetricWarning: Precision and F-score are ill-defined and being set to 0.0 in labels with no predicted samples. Use `zero_division` parameter to control this behavior.\n",
      "  _warn_prf(average, modifier, msg_start, len(result))\n",
      "C:\\Users\\Jordan\\anaconda3\\Lib\\site-packages\\sklearn\\metrics\\_classification.py:1344: UndefinedMetricWarning: Precision and F-score are ill-defined and being set to 0.0 in labels with no predicted samples. Use `zero_division` parameter to control this behavior.\n",
      "  _warn_prf(average, modifier, msg_start, len(result))\n",
      "C:\\Users\\Jordan\\anaconda3\\Lib\\site-packages\\sklearn\\metrics\\_classification.py:1344: UndefinedMetricWarning: Precision and F-score are ill-defined and being set to 0.0 in labels with no predicted samples. Use `zero_division` parameter to control this behavior.\n",
      "  _warn_prf(average, modifier, msg_start, len(result))\n"
     ]
    }
   ],
   "source": [
    "# Initialize TfidfVectorizer for feature extraction\n",
    "vectorizer = TfidfVectorizer(max_features=1000)  # Limit to top 1000 features\n",
    "\n",
    "# Fit and transform the 'clean_body' column to get the feature matrix\n",
    "X = vectorizer.fit_transform(topics_data['clean_body'])\n",
    "\n",
    "# Create the target variable based on submission score (binary classification)\n",
    "threshold = 200  # Classify as high score if score > threshold\n",
    "y = topics_data['score'].apply(lambda x: 1 if x > threshold else 0)\n",
    "\n",
    "# Split the data into training and testing sets (70-30 split)\n",
    "X_train, X_test, y_train, y_test = train_test_split(X, y, test_size=0.3, random_state=42)\n",
    "\n",
    "# Initialize the RandomForestClassifier\n",
    "rf_model = RandomForestClassifier(n_estimators=100, random_state=42)\n",
    "\n",
    "# Train the model\n",
    "rf_model.fit(X_train, y_train)\n",
    "\n",
    "# Make predictions on the test set\n",
    "y_pred = rf_model.predict(X_test)\n",
    "\n",
    "# Display classification report\n",
    "print(classification_report(y_test, y_pred))"
   ]
  },
  {
   "cell_type": "code",
   "execution_count": 14,
   "id": "5a650592",
   "metadata": {},
   "outputs": [
    {
     "name": "stdout",
     "output_type": "stream",
     "text": [
      "Fitting 3 folds for each of 100 candidates, totalling 300 fits\n",
      "Best Hyperparameters: {'n_estimators': 400, 'min_samples_split': 4, 'min_samples_leaf': 1, 'max_features': 'sqrt', 'max_depth': 50, 'bootstrap': True}\n",
      "Best Cross-Validation Score: 0.7485509382061105\n",
      "              precision    recall  f1-score   support\n",
      "\n",
      "           0       0.00      0.00      0.00        38\n",
      "           1       0.75      1.00      0.85       112\n",
      "\n",
      "    accuracy                           0.75       150\n",
      "   macro avg       0.37      0.50      0.43       150\n",
      "weighted avg       0.56      0.75      0.64       150\n",
      "\n"
     ]
    },
    {
     "name": "stderr",
     "output_type": "stream",
     "text": [
      "C:\\Users\\Jordan\\anaconda3\\Lib\\site-packages\\sklearn\\metrics\\_classification.py:1344: UndefinedMetricWarning: Precision and F-score are ill-defined and being set to 0.0 in labels with no predicted samples. Use `zero_division` parameter to control this behavior.\n",
      "  _warn_prf(average, modifier, msg_start, len(result))\n",
      "C:\\Users\\Jordan\\anaconda3\\Lib\\site-packages\\sklearn\\metrics\\_classification.py:1344: UndefinedMetricWarning: Precision and F-score are ill-defined and being set to 0.0 in labels with no predicted samples. Use `zero_division` parameter to control this behavior.\n",
      "  _warn_prf(average, modifier, msg_start, len(result))\n",
      "C:\\Users\\Jordan\\anaconda3\\Lib\\site-packages\\sklearn\\metrics\\_classification.py:1344: UndefinedMetricWarning: Precision and F-score are ill-defined and being set to 0.0 in labels with no predicted samples. Use `zero_division` parameter to control this behavior.\n",
      "  _warn_prf(average, modifier, msg_start, len(result))\n"
     ]
    }
   ],
   "source": [
    "# --- Hyperparameter Tuning with RandomizedSearchCV ---\n",
    "\n",
    "# Define the parameter grid for RandomizedSearchCV\n",
    "param_dist = {\n",
    "    'n_estimators': np.arange(100, 1001, 100),\n",
    "    'max_depth': [None, 10, 20, 30, 40, 50],\n",
    "    'min_samples_split': np.arange(2, 11),\n",
    "    'min_samples_leaf': np.arange(1, 11),\n",
    "    'max_features': ['auto', 'sqrt', 'log2'],\n",
    "    'bootstrap': [True, False]\n",
    "}\n",
    "\n",
    "# Initialize RandomizedSearchCV with cross-validation\n",
    "random_search = RandomizedSearchCV(estimator=rf_model, param_distributions=param_dist,\n",
    "                                   n_iter=100, cv=3, verbose=2, random_state=42, n_jobs=-1)\n",
    "\n",
    "# Perform the search and find the best parameters\n",
    "random_search.fit(X_train, y_train)\n",
    "\n",
    "# Display the best hyperparameters and cross-validation score\n",
    "print(f'Best Hyperparameters: {random_search.best_params_}')\n",
    "print(f'Best Cross-Validation Score: {random_search.best_score_}')\n",
    "\n",
    "# Retrieve the best model from the random search\n",
    "best_rf_model = random_search.best_estimator_\n",
    "\n",
    "# Make predictions using the best model\n",
    "y_pred = best_rf_model.predict(X_test)\n",
    "\n",
    "# Display classification report for the best model\n",
    "print(classification_report(y_test, y_pred))"
   ]
  },
  {
   "cell_type": "code",
   "execution_count": 15,
   "id": "39d29b80",
   "metadata": {},
   "outputs": [
    {
     "name": "stderr",
     "output_type": "stream",
     "text": [
      "C:\\Users\\Jordan\\anaconda3\\Lib\\site-packages\\sklearn\\cluster\\_kmeans.py:870: FutureWarning: The default value of `n_init` will change from 10 to 'auto' in 1.4. Set the value of `n_init` explicitly to suppress the warning\n",
      "  warnings.warn(\n"
     ]
    },
    {
     "name": "stdout",
     "output_type": "stream",
     "text": [
      "                                               title  cluster\n",
      "0              Just wanted to share a message I got.        1\n",
      "1  The situation that will lead to the end of the...        1\n",
      "2                     I stand here to give them hope        0\n",
      "3  was playing with my brother the other night an...        0\n",
      "4  The no-loading-screen feature still blows my m...        0\n"
     ]
    }
   ],
   "source": [
    "# --- Cluster Topics with KMeans ---\n",
    "\n",
    "# Perform KMeans clustering to group topics into clusters\n",
    "kmeans = KMeans(n_clusters=2, random_state=42)\n",
    "\n",
    "# Fit the model to the feature matrix\n",
    "kmeans.fit(X)\n",
    "\n",
    "# Assign the cluster labels to the DataFrame\n",
    "topics_data['cluster'] = kmeans.labels_\n",
    "\n",
    "# Display the titles of the first few clustered topics\n",
    "print(topics_data[['title', 'cluster']].head())"
   ]
  },
  {
   "cell_type": "code",
   "execution_count": 16,
   "id": "d61b4545",
   "metadata": {},
   "outputs": [
    {
     "data": {
      "image/png": "[encoded data removed]",
      "text/plain": [
       "<Figure size 1000x600 with 1 Axes>"
      ]
     },
     "metadata": {},
     "output_type": "display_data"
    }
   ],
   "source": [
    "# --- Feature Importance Visualization ---\n",
    "\n",
    "# Get feature importances from the best Random Forest model\n",
    "importances = best_rf_model.feature_importances_\n",
    "feature_names = vectorizer.get_feature_names_out()\n",
    "\n",
    "# Create a DataFrame to display feature importances\n",
    "feature_importance_df = pd.DataFrame({\n",
    "    'Feature': feature_names,\n",
    "    'Importance': importances\n",
    "}).sort_values(by='Importance', ascending=False)\n",
    "\n",
    "# Plot the top N important features\n",
    "top_n = 20\n",
    "top_features = feature_importance_df.head(top_n)\n",
    "\n",
    "plt.figure(figsize=(10, 6))\n",
    "plt.barh(top_features['Feature'], top_features['Importance'], color='royalblue')\n",
    "plt.xlabel('Importance')\n",
    "plt.title(f'Top {top_n} Important Features in Random Forest Model')\n",
    "plt.gca().invert_yaxis()  # Reverse the order for a cleaner view\n",
    "plt.show()"
   ]
  },
  {
   "cell_type": "code",
   "execution_count": 17,
   "id": "d58c3669",
   "metadata": {},
   "outputs": [
    {
     "data": {
      "image/png": "[encoded data removed]",
      "text/plain": [
       "<Figure size 600x600 with 2 Axes>"
      ]
     },
     "metadata": {},
     "output_type": "display_data"
    }
   ],
   "source": [
    "# --- Confusion Matrix Visualization ---\n",
    "\n",
    "# Get the confusion matrix for the predictions\n",
    "cm = confusion_matrix(y_test, y_pred)\n",
    "\n",
    "# Plot the confusion matrix using seaborn\n",
    "plt.figure(figsize=(6, 6))\n",
    "sns.heatmap(cm, annot=True, fmt='d', cmap='Blues', xticklabels=['Low Score', 'High Score'], yticklabels=['Low Score', 'High Score'])\n",
    "plt.xlabel('Predicted')\n",
    "plt.ylabel('True')\n",
    "plt.title('Confusion Matrix')\n",
    "plt.show()\n"
   ]
  },
  {
   "cell_type": "code",
   "execution_count": 18,
   "id": "8fa83736",
   "metadata": {},
   "outputs": [
    {
     "name": "stdout",
     "output_type": "stream",
     "text": [
      "Cross-Validation Scores: [0.74 0.74 0.74 0.74 0.74]\n",
      "Mean CV Score: 0.74\n"
     ]
    }
   ],
   "source": [
    "# --- Cross-Validation Scores ---\n",
    "\n",
    "# Perform cross-validation on the best model to evaluate performance\n",
    "cv_scores = cross_val_score(best_rf_model, X, y, cv=5)\n",
    "print(f\"Cross-Validation Scores: {cv_scores}\")\n",
    "print(f\"Mean CV Score: {cv_scores.mean()}\")\n"
   ]
  },
  {
   "cell_type": "code",
   "execution_count": 19,
   "id": "51b98dc2",
   "metadata": {},
   "outputs": [
    {
     "name": "stdout",
     "output_type": "stream",
     "text": [
      "[1 1]\n"
     ]
    }
   ],
   "source": [
    "# --- Predictions on New Data ---\n",
    "\n",
    "# Example new data for prediction\n",
    "new_data = ['I really hate this game', 'The loot we get as F2P in dungeon, archboss or field boss cant compare even if we get lucent']\n",
    "\n",
    "# Preprocess and vectorize the new data\n",
    "new_data_clean = [preprocess_text(text) for text in new_data]\n",
    "new_data_vectorized = vectorizer.transform(new_data_clean)\n",
    "\n",
    "# Predict using the best model\n",
    "new_predictions = best_rf_model.predict(new_data_vectorized)\n",
    "\n",
    "# Print the predictions for new data\n",
    "print(new_predictions)\n"
   ]
  },
  {
   "cell_type": "code",
   "execution_count": null,
   "id": "d1d06dc1",
   "metadata": {},
   "outputs": [],
   "source": []
  }
 ],
 "metadata": {
  "kernelspec": {
   "display_name": "Python 3 (ipykernel)",
   "language": "python",
   "name": "python3"
  },
  "language_info": {
   "codemirror_mode": {
    "name": "ipython",
    "version": 3
   },
   "file_extension": ".py",
   "mimetype": "text/x-python",
   "name": "python",
   "nbconvert_exporter": "python",
   "pygments_lexer": "ipython3",
   "version": "3.11.5"
  }
 },
 "nbformat": 4,
 "nbformat_minor": 5
}
